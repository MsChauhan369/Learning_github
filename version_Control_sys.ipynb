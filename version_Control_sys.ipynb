{
 "cells": [
  {
   "cell_type": "code",
   "execution_count": 1,
   "metadata": {},
   "outputs": [
    {
     "name": "stdout",
     "output_type": "stream",
     "text": [
      "it is my version\n"
     ]
    }
   ],
   "source": [
    "a: str = \"it is my first version\"\n",
    "print(a)"
   ]
  },
  {
   "cell_type": "markdown",
   "metadata": {},
   "source": [
    "# Useful Log Options in git"
   ]
  },
  {
   "cell_type": "markdown",
   "metadata": {},
   "source": [
    "a = git log -p -2 #last two commit with diff\n",
    "b = git log --stat # summary of changes\n",
    "\n",
    "git log --pretty=oneline\n",
    "git log --pretty=format:\"%h-%an,%ar:%s\" (h=hash,an=autherName,ar=relative to, s=string)\n",
    "\n",
    "git log -S function_name"
   ]
  }
 ],
 "metadata": {
  "kernelspec": {
   "display_name": "Python 3",
   "language": "python",
   "name": "python3"
  },
  "language_info": {
   "codemirror_mode": {
    "name": "ipython",
    "version": 3
   },
   "file_extension": ".py",
   "mimetype": "text/x-python",
   "name": "python",
   "nbconvert_exporter": "python",
   "pygments_lexer": "ipython3",
   "version": "3.12.4"
  }
 },
 "nbformat": 4,
 "nbformat_minor": 2
}
